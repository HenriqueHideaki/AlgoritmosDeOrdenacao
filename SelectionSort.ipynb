{
  "nbformat": 4,
  "nbformat_minor": 0,
  "metadata": {
    "colab": {
      "provenance": [],
      "collapsed_sections": [],
      "authorship_tag": "ABX9TyM4IJim6lUFFRaCb1rRqQnJ",
      "include_colab_link": true
    },
    "kernelspec": {
      "name": "python3",
      "display_name": "Python 3"
    },
    "language_info": {
      "name": "python"
    }
  },
  "cells": [
    {
      "cell_type": "markdown",
      "metadata": {
        "id": "view-in-github",
        "colab_type": "text"
      },
      "source": [
        "<a href=\"https://colab.research.google.com/github/HenriqueHideaki/AlgoritmosDeOrdenacao/blob/main/SelectionSort.ipynb\" target=\"_parent\"><img src=\"https://colab.research.google.com/assets/colab-badge.svg\" alt=\"Open In Colab\"/></a>"
      ]
    },
    {
      "cell_type": "code",
      "execution_count": null,
      "metadata": {
        "colab": {
          "base_uri": "https://localhost:8080/"
        },
        "id": "htx0kDQ6nFt0",
        "outputId": "0874ae1e-8058-4953-f3b7-b20d28fbff45"
      },
      "outputs": [
        {
          "output_type": "stream",
          "name": "stdout",
          "text": [
            "[11, 14, 17, 29, 31, 32, 37, 39, 50, 50]\n"
          ]
        }
      ],
      "source": [
        "# lista = [7,5,1,8,3]\n",
        "from random import randint\n",
        "lista_ordenada = list()\n",
        "# lista = list()\n",
        "\n",
        "def gerarLista(num):\n",
        "  for i in range(num):\n",
        "    num = randint(1,50)\n",
        "    lista.append(num)\n",
        "  return lista\n",
        "\n",
        "def ordenaLista(lista = list()):\n",
        "  for i in range(0,len(lista)):\n",
        "    menor = min(lista)\n",
        "    lista_ordenada.append(menor)\n",
        "    lista.remove(menor)\n",
        "  return lista_ordenada\n",
        "\n",
        "\n",
        "lista = gerarLista(10)\n",
        "print(ordenaLista(lista))\n"
      ]
    },
    {
      "cell_type": "code",
      "source": [
        "import random\n",
        "\n",
        "\n",
        "\n",
        "any_numbers = random.sample(range(1, 1000), 42)\n",
        "\n",
        "already_sorted = [1, 2, 3, 4, 5, 6, 9, 20, 22, 23, 28,\n",
        "                    32, 34, 39, 40, 42, 76, 87, 99, 112]\n",
        "\n",
        "inversed = [117, 90, 88, 83, 81, 77, 74, 69, 64, 63, 51,\n",
        "            50, 49, 42, 41, 34, 32, 29, 28, 22, 16, 8, 6, 5, 3, 1]\n",
        "\n",
        "repeated = [7, 7, 7, 7, 7, 1, 1, 9, 9, 0, 4, 4, 4, 5, 4, 5, 7, 1,]\n",
        "\n",
        "\n",
        "def troca(lista = list(), index_1 = int, index_2 = int):\n",
        "    aux = lista[index_1]\n",
        "    lista[index_1] = lista[index_2]\n",
        "    lista[index_2] = aux\n",
        "    return lista\n",
        "\n",
        "def menor(lista= list()):\n",
        "    menor_da_lista = lista[0]\n",
        "    menor_da_lista_index = 0\n",
        "    for i in range(len(lista)):\n",
        "        if lista[i] < menor_da_lista:\n",
        "            menor_da_lista = lista[i]\n",
        "            menor_da_lista_index = i\n",
        "    return menor_da_lista, menor_da_lista_index\n",
        "\n",
        "\n",
        "def selection_sort(lista):\n",
        "    n = len(lista)\n",
        "    for j in range(n-1):\n",
        "        min_index = j\n",
        "        for i in range(j,n):\n",
        "            if lista[i] < lista[min_index]:\n",
        "                min_index = i\n",
        "        if lista[j] > lista[min_index]:\n",
        "                troca(lista,j, min_index)\n",
        "    return lista\n",
        "\n",
        "if __name__ == \"__main__\":\n",
        "    test_cases = {'Números aleatórios': any_numbers,\n",
        "                    'Já ordenados': already_sorted,\n",
        "                    'Ordem inversa': inversed,\n",
        "                    'Elementos repetidos': repeated\n",
        "                }\n",
        "    print(\"*******************************\")\n",
        "    for name, lista in test_cases.items():\n",
        "        print(\"\\nCaso de teste: {}\".format(name))\n",
        "        print(lista)\n",
        "        selection_sort(lista)\n",
        "        print(\"\\n Ordenado:\")\n",
        "        print(lista)\n",
        "    print(\"*******************************\")\n"
      ],
      "metadata": {
        "colab": {
          "base_uri": "https://localhost:8080/"
        },
        "id": "tAd5SLVUj6z5",
        "outputId": "cf3a21c8-707e-4a00-a1e3-137d12bf27c4"
      },
      "execution_count": 2,
      "outputs": [
        {
          "output_type": "stream",
          "name": "stdout",
          "text": [
            "*******************************\n",
            "\n",
            "Caso de teste: Números aleatórios\n",
            "[117, 530, 993, 52, 491, 176, 979, 376, 239, 217, 120, 574, 733, 922, 595, 181, 585, 230, 103, 700, 785, 778, 289, 99, 142, 39, 256, 849, 710, 887, 613, 760, 200, 64, 258, 318, 660, 792, 965, 169, 932, 759]\n",
            "\n",
            " Ordenado:\n",
            "[39, 52, 64, 99, 103, 117, 120, 142, 169, 176, 181, 200, 217, 230, 239, 256, 258, 289, 318, 376, 491, 530, 574, 585, 595, 613, 660, 700, 710, 733, 759, 760, 778, 785, 792, 849, 887, 922, 932, 965, 979, 993]\n",
            "\n",
            "Caso de teste: Já ordenados\n",
            "[1, 2, 3, 4, 5, 6, 9, 20, 22, 23, 28, 32, 34, 39, 40, 42, 76, 87, 99, 112]\n",
            "\n",
            " Ordenado:\n",
            "[1, 2, 3, 4, 5, 6, 9, 20, 22, 23, 28, 32, 34, 39, 40, 42, 76, 87, 99, 112]\n",
            "\n",
            "Caso de teste: Ordem inversa\n",
            "[117, 90, 88, 83, 81, 77, 74, 69, 64, 63, 51, 50, 49, 42, 41, 34, 32, 29, 28, 22, 16, 8, 6, 5, 3, 1]\n",
            "\n",
            " Ordenado:\n",
            "[1, 3, 5, 6, 8, 16, 22, 28, 29, 32, 34, 41, 42, 49, 50, 51, 63, 64, 69, 74, 77, 81, 83, 88, 90, 117]\n",
            "\n",
            "Caso de teste: Elementos repetidos\n",
            "[7, 7, 7, 7, 7, 1, 1, 9, 9, 0, 4, 4, 4, 5, 4, 5, 7, 1]\n",
            "\n",
            " Ordenado:\n",
            "[0, 1, 1, 1, 4, 4, 4, 4, 5, 5, 7, 7, 7, 7, 7, 7, 9, 9]\n",
            "*******************************\n"
          ]
        }
      ]
    }
  ]
}